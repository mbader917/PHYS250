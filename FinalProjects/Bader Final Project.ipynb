{
 "cells": [
  {
   "cell_type": "code",
   "execution_count": 38,
   "metadata": {},
   "outputs": [],
   "source": [
    "import numpy as np\n",
    "import matplotlib.pyplot as plt\n",
    "from scipy.io import wavfile as wav\n",
    "import scipy.fftpack"
   ]
  },
  {
   "cell_type": "code",
   "execution_count": 56,
   "metadata": {},
   "outputs": [],
   "source": [
    "(r, audio1) = wav.read('midC.wav.wav') # take frequency & audio data "
   ]
  },
  {
   "cell_type": "markdown",
   "metadata": {},
   "source": [
    "# 1 (currently getting used to the process using single keyboard notes)"
   ]
  },
  {
   "cell_type": "code",
   "execution_count": 59,
   "metadata": {},
   "outputs": [
    {
     "data": {
      "text/plain": [
       "[<matplotlib.lines.Line2D at 0x2060f78f358>,\n",
       " <matplotlib.lines.Line2D at 0x2060f78f4a8>]"
      ]
     },
     "execution_count": 59,
     "metadata": {},
     "output_type": "execute_result"
    },
    {
     "data": {
      "image/png": "[encoded data removed]",
      "text/plain": [
       "<Figure size 432x288 with 1 Axes>"
      ]
     },
     "metadata": {
      "needs_background": "light"
     },
     "output_type": "display_data"
    }
   ],
   "source": [
    "# ***function to determine correct starting time (cut out the silence before)********************************************\n",
    "    # for now, just doing it manually to test everything else\n",
    "\n",
    "audio = audio1[int(1.3*r):int(3*r)]\n",
    "plt.plot(audio) # plot the audio waves over a time interval"
   ]
  },
  {
   "cell_type": "markdown",
   "metadata": {},
   "source": [
    "Transform"
   ]
  },
  {
   "cell_type": "code",
   "execution_count": 60,
   "metadata": {},
   "outputs": [],
   "source": [
    "audio2 = audio[:,0] # take the second entry in each row"
   ]
  },
  {
   "cell_type": "code",
   "execution_count": 72,
   "metadata": {},
   "outputs": [
    {
     "data": {
      "text/plain": [
       "[<matplotlib.lines.Line2D at 0x20614a23400>]"
      ]
     },
     "execution_count": 72,
     "metadata": {},
     "output_type": "execute_result"
    },
    {
     "data": {
      "image/png": "[encoded data removed]",
      "text/plain": [
       "<Figure size 432x288 with 1 Axes>"
      ]
     },
     "metadata": {
      "needs_background": "light"
     },
     "output_type": "display_data"
    }
   ],
   "source": [
    "audioft = fft(audio2) # transform\n",
    "audioft2 = abs(audioft) # absolute value for plotting\n",
    "freq = fftfreq(len(audioft2), 1/r) # get frequencies; window length = length of the audio file (after trimmed), sample spacing = 1/rate\n",
    "plt.xlabel('frequencies [Hz]')\n",
    "plt.xscale('log')\n",
    "plt.plot(freq, audioft2)"
   ]
  },
  {
   "cell_type": "code",
   "execution_count": null,
   "metadata": {},
   "outputs": [],
   "source": [
    "# ***Now with chords!!!!***********************************************************************************************"
   ]
  },
  {
   "cell_type": "markdown",
   "metadata": {},
   "source": [
    "# 2: Processing the notes"
   ]
  },
  {
   "cell_type": "code",
   "execution_count": null,
   "metadata": {},
   "outputs": [],
   "source": [
    "# ***BIG TASK: filter out harmonic frequencies*************************************************************************\n",
    "# ***BIG TASK: filter out extra noise from the instrument/environment**************************************************\n",
    "# ***return an array of the 3 or 4 frequencies"
   ]
  },
  {
   "cell_type": "markdown",
   "metadata": {},
   "source": [
    "Returning the frequencies as notes (i.e. 440 --> A)"
   ]
  },
  {
   "cell_type": "code",
   "execution_count": 217,
   "metadata": {},
   "outputs": [
    {
     "name": "stdout",
     "output_type": "stream",
     "text": [
      "[['C', 261.63, 1], ['E', 329.63, 5], ['G', 392, 8]]\n"
     ]
    }
   ],
   "source": [
    "Notes = [[\"C\",261.63,1],[\"C#\",277.18,2],[\"D\",293.66,3],[\"D#\",311.13,4],[\"E\",329.63,5],[\"F\",349.23,6],[\"F#\",369.99,7],[\"G\",392,8],[\"G#\",415.3,9],[\"A\",440,10],[\"A#\",466.16,11],[\"B\",493.88,0]]\n",
    "letters = [i[0] for i in Notes]\n",
    "fs = [float(i[1]) for i in Notes]\n",
    "nums = [i[2] for i in Notes]\n",
    "\n",
    "# ***function that sets the frequency to the correct range (~ 250 to 500), i.e. picks one standard octave*******************************************************************\n",
    "\n",
    "def freq_notes(freq_array):\n",
    "    notes_data = []\n",
    "    for i in freq_array:\n",
    "        diff = [j-i for j in fs] # subtract freq from the note array's 2nd entries\n",
    "        abs_diff = np.abs(diff) \n",
    "        kmin = 2\n",
    "        for k in range(0,12):\n",
    "            if abs_diff[k] < abs_diff[kmin]:\n",
    "                kmin = k\n",
    "        notes_data.append(Notes[kmin])\n",
    "    return(notes_data)\n",
    "\n",
    "test = np.array([266,330,393])\n",
    "notes_data_test = freq_notes(test)\n",
    "print(notes_data_test)"
   ]
  },
  {
   "cell_type": "markdown",
   "metadata": {},
   "source": [
    "Determine what the chord is & print out its name + notes"
   ]
  },
  {
   "cell_type": "markdown",
   "metadata": {},
   "source": [
    "Using the 9 common chord types:\n",
    "\n",
    "* Major triad (0,4,7)\n",
    "* Minor triad (0,3,7)\n",
    "* Diminished (0,3,6)\n",
    "* Major seventh (0,4,7,11)\n",
    "* Minor Seventh (0,3,7,10)\n",
    "* Dominant Seventh (0,4,7,10)\n",
    "* Suspended: sus2 (0,2,7), sus4 (0,5,7)\n",
    "* Augmented (0,4,8)\n",
    "* Won't be doing extended / inversions (squish everything into one octave)"
   ]
  },
  {
   "cell_type": "code",
   "execution_count": 218,
   "metadata": {},
   "outputs": [
    {
     "name": "stdout",
     "output_type": "stream",
     "text": [
      "[['C', 261.63, 1], ['E', 329.63, 5], ['G', 392, 8], ['A', 440, 10]]\n",
      "[['G', 392, 8], ['C', 261.63, 1], ['D', 293.66, 3]]\n"
     ]
    }
   ],
   "source": [
    "#Test chords\n",
    "\n",
    "A_minor7 = freq_notes((261.63, 329.63, 392, 440))\n",
    "print(A_minor7)\n",
    "\n",
    "G_sus4 = freq_notes((390,261.63,294))\n",
    "print(G_sus4)"
   ]
  },
  {
   "cell_type": "code",
   "execution_count": 219,
   "metadata": {},
   "outputs": [
    {
     "name": "stdout",
     "output_type": "stream",
     "text": [
      "([8, 1, 3], ['G', 'C', 'D'], '8 sus4')\n"
     ]
    }
   ],
   "source": [
    "def notes_chord(notes_data): # takes the collection of notes and matches it to the chord it is (not in key)\n",
    "    nums = [i[2] for i in notes_data]\n",
    "    for i in nums:\n",
    "        chord_i = [(j-i)%12 for j in nums] # mod 12\n",
    "        chord_i.sort() # put in numerical order\n",
    "        chord_nums = [(j+i)%12 for j in chord_i] # adding i back, mod 12, gives the OG notes but in the right order\n",
    "        chord_letters = [letters[i][0] for i in chord_nums]\n",
    "        if len(chord_i) == 3:\n",
    "            chord2 = np.append(chord_i,0)\n",
    "        if chord2[1]==2 and chord2[2]==7 and chord2[3]==0:\n",
    "            return(chord_nums,chord_letters, \"%i sus2\" %i) # *** change i value to letter value **************************************************\n",
    "        if chord2[1] == 3:\n",
    "            if chord2[2] == 7 and chord2[3] == 0:\n",
    "                return(chord_nums,chord_letters, \"%i minor\" %i)\n",
    "            if chord2[2] == 6 and chord2[3] == 0:\n",
    "                return(chord_nums,chord_letters, \"%i diminished\" %i)\n",
    "            if chord2[2] == 7 and chord2[3] == 10:\n",
    "                return(chord_nums,chord_letters, \"%i minor seventh\" %i)\n",
    "        if chord2[1] == 4:\n",
    "            if chord2[2] == 7 and chord2[3] == 0:\n",
    "                return(chord_nums,chord_letters, \"%i major\" %i)\n",
    "            if chord2[2] == 7 and chord2[3] == 11:\n",
    "                return(chord_nums,chord_letters, \"%i major seventh\" %i)\n",
    "            if chord2[2] == 7 and chord2[3] == 10:\n",
    "                return(chord_nums,chord_letters, \"%i dominant seventh\" %i)\n",
    "            if chord2[2] == 8 and chord2[3] == 0:\n",
    "                return(chord_nums,chord_letters, \"%i augmented\" %i)\n",
    "        if chord2[1]==5 and chord2[2]==7 and chord2[3]==0:\n",
    "            return(chord_nums,chord_letters, \"%i sus4\" %i)\n",
    "\n",
    "notes_chord_test_Gsus4 = notes_chord(G_sus4)\n",
    "print(notes_chord_test_Gsus4)"
   ]
  },
  {
   "cell_type": "markdown",
   "metadata": {},
   "source": [
    "# 3: Picking the right keys"
   ]
  },
  {
   "cell_type": "markdown",
   "metadata": {},
   "source": [
    "“elimination round” sort of function that checks which keys have the first note, and then of those remaining, checks which have the second, etc.\n",
    "* just using major & natural minor keys\n",
    "\n",
    "If not too complicated, lower threshold to allow just 3 of the 4 notes to fit into the key which allows some more chord combinations to be considered"
   ]
  },
  {
   "cell_type": "code",
   "execution_count": 262,
   "metadata": {},
   "outputs": [
    {
     "data": {
      "text/plain": [
       "['1 Major',\n",
       " '10 Minor',\n",
       " '4 Major',\n",
       " '1 Minor',\n",
       " '6 Major',\n",
       " '3 Minor',\n",
       " '8 Major',\n",
       " '5 Minor',\n",
       " '11 Major',\n",
       " '8 Minor']"
      ]
     },
     "execution_count": 262,
     "metadata": {},
     "output_type": "execute_result"
    }
   ],
   "source": [
    "Cn_an = [1,3,5,6,8,10,12]\n",
    "Cs_as = [(i+1)%12 for i in Cn_an]\n",
    "Dn_bn = [(i+2)%12 for i in Cn_an]\n",
    "# Each row of the array is the scale of notes in that key (i.e. row 1 is the C major / A minor notes, row 2 is C#M/A#m, etc.)\n",
    "\n",
    "def findmykeys(notes_chord):\n",
    "    keys=[]\n",
    "    tonics = np.arange(1,13) # set integers 1 to 12 to represent the major key tonics\n",
    "    for i in notes_chord[0]: \n",
    "        for j in tonics:\n",
    "            key_j = [(j+n-1)%12 for n in Cn_an] # check which keys contain i (j=1 --> C, j=12 --> B)\n",
    "            if i not in key_j: # if the key doesn't contains i it gets set to 0\n",
    "                tonics[j-1]=0\n",
    "    for j in tonics:\n",
    "        if j > 0:\n",
    "            keys.append(\"%i Major\" %j) # ***make it be letters not numbers **********************************************\n",
    "            keys.append(\"%i Minor\" %((j+9)%12))\n",
    "    return(keys)\n",
    "\n",
    "findmykeys(notes_chord_test_Gsus4) # should get CM=am (1,10), GM=em (8,5), FM=dm(6,3), BfM/AsM=gm (11,8), EfM/DsM=cm (4,1)"
   ]
  },
  {
   "cell_type": "markdown",
   "metadata": {},
   "source": [
    "# 4: for each key, determining where in the key that chord fits\n",
    "\n",
    "* a chord relative to a key just becomes a matter of numerical difference.\n",
    "* For example, if the key is C major and the chord is G major, the key's tonic is C=1. The notes are G=8, B=12 and D=3. So the chord, relative to C major, is defined as the notes that have a \"difference\" of 7, 11, and 2 half-steps from the tonic, in other words the V chord (though I'm realizing this means if the key has something like B=12 as its tonic, then C=1 would be a difference of 1, so mod12 is going to come into play here).\n"
   ]
  },
  {
   "cell_type": "code",
   "execution_count": null,
   "metadata": {},
   "outputs": [],
   "source": [
    "def lockinkey(key,chord): # for each key, determine where the chord \"locks\" in #yaypuns *******************************\n",
    "    # "
   ]
  },
  {
   "cell_type": "markdown",
   "metadata": {},
   "source": [
    "# 5: hearing that chord fit into a chosen key:\n",
    "\n",
    "* figure out how to do playback of a standard 1 chord for an inputted key (still need to do some more looking into this to see if/how it's possible), followed by the playback of the chord that was entered in step 1, followed by the 1 chord again\n"
   ]
  },
  {
   "cell_type": "code",
   "execution_count": null,
   "metadata": {},
   "outputs": [],
   "source": []
  },
  {
   "cell_type": "markdown",
   "metadata": {},
   "source": [
    "# 6: Bringing it all together in one function"
   ]
  },
  {
   "cell_type": "code",
   "execution_count": null,
   "metadata": {},
   "outputs": [],
   "source": []
  }
 ],
 "metadata": {
  "kernelspec": {
   "display_name": "Python 3",
   "language": "python",
   "name": "python3"
  },
  "language_info": {
   "codemirror_mode": {
    "name": "ipython",
    "version": 3
   },
   "file_extension": ".py",
   "mimetype": "text/x-python",
   "name": "python",
   "nbconvert_exporter": "python",
   "pygments_lexer": "ipython3",
   "version": "3.7.3"
  }
 },
 "nbformat": 4,
 "nbformat_minor": 2
}
